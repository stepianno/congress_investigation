{
 "cells": [
  {
   "cell_type": "markdown",
   "metadata": {},
   "source": [
    "Here, I do some further EDA and design a Bokeh visual which can later be used and manipulated in the Flask app"
   ]
  },
  {
   "cell_type": "code",
   "execution_count": 15,
   "metadata": {},
   "outputs": [],
   "source": [
    "import pandas as pd\n",
    "import numpy as np\n",
    "from pymongo import MongoClient\n",
    "from pprint import pprint\n",
    "\n",
    "import matplotlib.pyplot as plt\n",
    "import seaborn as sns"
   ]
  },
  {
   "cell_type": "code",
   "execution_count": 2,
   "metadata": {},
   "outputs": [],
   "source": [
    "client = MongoClient()\n",
    "db = client.bills"
   ]
  },
  {
   "cell_type": "code",
   "execution_count": 4,
   "metadata": {},
   "outputs": [],
   "source": [
    "df = pd.read_csv('flask_files/bill_details.csv',index_col=[0])"
   ]
  },
  {
   "cell_type": "code",
   "execution_count": 5,
   "metadata": {
    "scrolled": true
   },
   "outputs": [
    {
     "data": {
      "text/plain": [
       "array(['Tax Code', 'Elections', 'Budget', 'Infrastructure', 'Regulations',\n",
       "       'Health Care', 'Labor / Immigration', 'Natural Resources',\n",
       "       'Small Business', 'Diplomacy', 'Border', 'Chemical Substances',\n",
       "       'Civil Law', 'Military', 'Education'], dtype=object)"
      ]
     },
     "execution_count": 5,
     "metadata": {},
     "output_type": "execute_result"
    }
   ],
   "source": [
    "df.topic.unique()"
   ]
  },
  {
   "cell_type": "code",
   "execution_count": 9,
   "metadata": {},
   "outputs": [],
   "source": [
    "df.date = pd.to_datetime(df.date, format='%Y-%m-%d')"
   ]
  },
  {
   "cell_type": "markdown",
   "metadata": {},
   "source": [
    "I look for interesting statistics in the data, such as how many bills in each topic became law - Natural Resources has more than three times any other topic - the value counts for the final actions taken on the bills - 90% were never voted on and less than 3% became law - and finally, the distribution of Democrat and Republican bills introduced for each topic. All of these I'll convey in the Flask app."
   ]
  },
  {
   "cell_type": "code",
   "execution_count": 11,
   "metadata": {
    "scrolled": true
   },
   "outputs": [
    {
     "data": {
      "text/plain": [
       "Natural Resources      144\n",
       "Regulations             48\n",
       "Diplomacy               26\n",
       "Budget                  25\n",
       "Health Care             25\n",
       "Border                  21\n",
       "Infrastructure          19\n",
       "Civil Law               14\n",
       "Military                12\n",
       "Tax Code                12\n",
       "Small Business           9\n",
       "Education                8\n",
       "Chemical Substances      8\n",
       "Labor / Immigration      6\n",
       "Elections                1\n",
       "Name: topic, dtype: int64"
      ]
     },
     "execution_count": 11,
     "metadata": {},
     "output_type": "execute_result"
    }
   ],
   "source": [
    "df[(df.track=='Became Law')].topic.value_counts()"
   ]
  },
  {
   "cell_type": "code",
   "execution_count": 12,
   "metadata": {},
   "outputs": [
    {
     "data": {
      "text/plain": [
       "Introduced               13576\n",
       "Passed House              1133\n",
       "Became Law                 378\n",
       "Passed Senate                7\n",
       "Resolving Differences        6\n",
       "Failed House                 4\n",
       "Became Private Law           1\n",
       "Name: track, dtype: int64"
      ]
     },
     "execution_count": 12,
     "metadata": {},
     "output_type": "execute_result"
    }
   ],
   "source": [
    "df.track.value_counts()"
   ]
  },
  {
   "cell_type": "code",
   "execution_count": 13,
   "metadata": {
    "scrolled": true
   },
   "outputs": [
    {
     "data": {
      "text/plain": [
       "D    8781\n",
       "R    6321\n",
       "I       2\n",
       "L       1\n",
       "Name: party, dtype: int64"
      ]
     },
     "execution_count": 13,
     "metadata": {},
     "output_type": "execute_result"
    }
   ],
   "source": [
    "df.party.value_counts()"
   ]
  },
  {
   "cell_type": "code",
   "execution_count": 14,
   "metadata": {
    "scrolled": true
   },
   "outputs": [
    {
     "name": "stdout",
     "output_type": "stream",
     "text": [
      "Tax Code\n",
      "D    898\n",
      "R    722\n",
      "Name: party, dtype: int64\n",
      "Elections\n",
      "D    230\n",
      "R     85\n",
      "Name: party, dtype: int64\n",
      "Budget\n",
      "D    288\n",
      "R    211\n",
      "Name: party, dtype: int64\n",
      "Infrastructure\n",
      "D    964\n",
      "R    502\n",
      "Name: party, dtype: int64\n",
      "Regulations\n",
      "R    627\n",
      "D    586\n",
      "Name: party, dtype: int64\n",
      "Health Care\n",
      "D    942\n",
      "R    629\n",
      "Name: party, dtype: int64\n",
      "Labor / Immigration\n",
      "D    415\n",
      "R    300\n",
      "Name: party, dtype: int64\n",
      "Natural Resources\n",
      "R    752\n",
      "D    604\n",
      "Name: party, dtype: int64\n",
      "Small Business\n",
      "D    458\n",
      "R    388\n",
      "Name: party, dtype: int64\n",
      "Diplomacy\n",
      "D    350\n",
      "R    210\n",
      "Name: party, dtype: int64\n",
      "Border\n",
      "D    528\n",
      "R    474\n",
      "I      1\n",
      "Name: party, dtype: int64\n",
      "Chemical Substances\n",
      "D    481\n",
      "R    374\n",
      "I      1\n",
      "Name: party, dtype: int64\n",
      "Civil Law\n",
      "D    746\n",
      "R    470\n",
      "L      1\n",
      "Name: party, dtype: int64\n",
      "Military\n",
      "D    424\n",
      "R    304\n",
      "Name: party, dtype: int64\n",
      "Education\n",
      "D    867\n",
      "R    273\n",
      "Name: party, dtype: int64\n"
     ]
    }
   ],
   "source": [
    "for topic in df.topic.unique():\n",
    "    mask = (df.topic==topic)\n",
    "    print(topic)\n",
    "    print(df[mask].party.value_counts())"
   ]
  },
  {
   "cell_type": "markdown",
   "metadata": {},
   "source": [
    "Here, I convert my data into something I can use in a heat map to convey how many bills in each topic were introduced / became law, every month."
   ]
  },
  {
   "cell_type": "code",
   "execution_count": 16,
   "metadata": {},
   "outputs": [],
   "source": [
    "time_df = df.groupby(['topic',df['date'].dt.strftime('%Y-%m')]).size().unstack(fill_value=0)"
   ]
  },
  {
   "cell_type": "code",
   "execution_count": 17,
   "metadata": {},
   "outputs": [],
   "source": [
    "time_law_df = df[df.track=='Became Law'].groupby(['topic',df['date'].dt.strftime('%Y-%m')]).size().unstack(fill_value=0)"
   ]
  },
  {
   "cell_type": "code",
   "execution_count": 18,
   "metadata": {
    "scrolled": false
   },
   "outputs": [
    {
     "data": {
      "text/plain": [
       "<matplotlib.axes._subplots.AxesSubplot at 0x7f7f4955c190>"
      ]
     },
     "execution_count": 18,
     "metadata": {},
     "output_type": "execute_result"
    },
    {
     "data": {
      "image/png": "[encoded data removed]",
      "text/plain": [
       "<Figure size 1296x432 with 2 Axes>"
      ]
     },
     "metadata": {
      "needs_background": "light"
     },
     "output_type": "display_data"
    }
   ],
   "source": [
    "plt.figure(figsize=(18,6))\n",
    "sns.heatmap(time_df)"
   ]
  },
  {
   "cell_type": "markdown",
   "metadata": {},
   "source": [
    "I now put together something very similar using Bokeh and supply hover tools. This can be included in the Flask app."
   ]
  },
  {
   "cell_type": "code",
   "execution_count": 21,
   "metadata": {},
   "outputs": [],
   "source": [
    "from bokeh.io import show\n",
    "from bokeh.models import BasicTicker, ColorBar, LinearColorMapper, PrintfTickFormatter\n",
    "from bokeh.plotting import figure"
   ]
  },
  {
   "cell_type": "code",
   "execution_count": 22,
   "metadata": {},
   "outputs": [],
   "source": [
    "from bokeh.io import output_file, show\n",
    "from bokeh.models import BasicTicker, ColorBar, LinearColorMapper, ColumnDataSource, PrintfTickFormatter\n",
    "from bokeh.plotting import figure\n",
    "from bokeh.transform import transform"
   ]
  },
  {
   "cell_type": "code",
   "execution_count": 23,
   "metadata": {
    "scrolled": false
   },
   "outputs": [
    {
     "data": {
      "text/html": [
       "\n",
       "    <div class=\"bk-root\">\n",
       "        <a href=\"https://bokeh.org\" target=\"_blank\" class=\"bk-logo bk-logo-small bk-logo-notebook\"></a>\n",
       "        <span id=\"1001\">Loading BokehJS ...</span>\n",
       "    </div>"
      ]
     },
     "metadata": {},
     "output_type": "display_data"
    },
    {
     "data": {
      "application/javascript": [
       "\n",
       "(function(root) {\n",
       "  function now() {\n",
       "    return new Date();\n",
       "  }\n",
       "\n",
       "  var force = true;\n",
       "\n",
       "  if (typeof root._bokeh_onload_callbacks === \"undefined\" || force === true) {\n",
       "    root._bokeh_onload_callbacks = [];\n",
       "    root._bokeh_is_loading = undefined;\n",
       "  }\n",
       "\n",
       "  var JS_MIME_TYPE = 'application/javascript';\n",
       "  var HTML_MIME_TYPE = 'text/html';\n",
       "  var EXEC_MIME_TYPE = 'application/vnd.bokehjs_exec.v0+json';\n",
       "  var CLASS_NAME = 'output_bokeh rendered_html';\n",
       "\n",
       "  /**\n",
       "   * Render data to the DOM node\n",
       "   */\n",
       "  function render(props, node) {\n",
       "    var script = document.createElement(\"script\");\n",
       "    node.appendChild(script);\n",
       "  }\n",
       "\n",
       "  /**\n",
       "   * Handle when an output is cleared or removed\n",
       "   */\n",
       "  function handleClearOutput(event, handle) {\n",
       "    var cell = handle.cell;\n",
       "\n",
       "    var id = cell.output_area._bokeh_element_id;\n",
       "    var server_id = cell.output_area._bokeh_server_id;\n",
       "    // Clean up Bokeh references\n",
       "    if (id != null && id in Bokeh.index) {\n",
       "      Bokeh.index[id].model.document.clear();\n",
       "      delete Bokeh.index[id];\n",
       "    }\n",
       "\n",
       "    if (server_id !== undefined) {\n",
       "      // Clean up Bokeh references\n",
       "      var cmd = \"from bokeh.io.state import curstate; print(curstate().uuid_to_server['\" + server_id + \"'].get_sessions()[0].document.roots[0]._id)\";\n",
       "      cell.notebook.kernel.execute(cmd, {\n",
       "        iopub: {\n",
       "          output: function(msg) {\n",
       "            var id = msg.content.text.trim();\n",
       "            if (id in Bokeh.index) {\n",
       "              Bokeh.index[id].model.document.clear();\n",
       "              delete Bokeh.index[id];\n",
       "            }\n",
       "          }\n",
       "        }\n",
       "      });\n",
       "      // Destroy server and session\n",
       "      var cmd = \"import bokeh.io.notebook as ion; ion.destroy_server('\" + server_id + \"')\";\n",
       "      cell.notebook.kernel.execute(cmd);\n",
       "    }\n",
       "  }\n",
       "\n",
       "  /**\n",
       "   * Handle when a new output is added\n",
       "   */\n",
       "  function handleAddOutput(event, handle) {\n",
       "    var output_area = handle.output_area;\n",
       "    var output = handle.output;\n",
       "\n",
       "    // limit handleAddOutput to display_data with EXEC_MIME_TYPE content only\n",
       "    if ((output.output_type != \"display_data\") || (!output.data.hasOwnProperty(EXEC_MIME_TYPE))) {\n",
       "      return\n",
       "    }\n",
       "\n",
       "    var toinsert = output_area.element.find(\".\" + CLASS_NAME.split(' ')[0]);\n",
       "\n",
       "    if (output.metadata[EXEC_MIME_TYPE][\"id\"] !== undefined) {\n",
       "      toinsert[toinsert.length - 1].firstChild.textContent = output.data[JS_MIME_TYPE];\n",
       "      // store reference to embed id on output_area\n",
       "      output_area._bokeh_element_id = output.metadata[EXEC_MIME_TYPE][\"id\"];\n",
       "    }\n",
       "    if (output.metadata[EXEC_MIME_TYPE][\"server_id\"] !== undefined) {\n",
       "      var bk_div = document.createElement(\"div\");\n",
       "      bk_div.innerHTML = output.data[HTML_MIME_TYPE];\n",
       "      var script_attrs = bk_div.children[0].attributes;\n",
       "      for (var i = 0; i < script_attrs.length; i++) {\n",
       "        toinsert[toinsert.length - 1].firstChild.setAttribute(script_attrs[i].name, script_attrs[i].value);\n",
       "        toinsert[toinsert.length - 1].firstChild.textContent = bk_div.children[0].textContent\n",
       "      }\n",
       "      // store reference to server id on output_area\n",
       "      output_area._bokeh_server_id = output.metadata[EXEC_MIME_TYPE][\"server_id\"];\n",
       "    }\n",
       "  }\n",
       "\n",
       "  function register_renderer(events, OutputArea) {\n",
       "\n",
       "    function append_mime(data, metadata, element) {\n",
       "      // create a DOM node to render to\n",
       "      var toinsert = this.create_output_subarea(\n",
       "        metadata,\n",
       "        CLASS_NAME,\n",
       "        EXEC_MIME_TYPE\n",
       "      );\n",
       "      this.keyboard_manager.register_events(toinsert);\n",
       "      // Render to node\n",
       "      var props = {data: data, metadata: metadata[EXEC_MIME_TYPE]};\n",
       "      render(props, toinsert[toinsert.length - 1]);\n",
       "      element.append(toinsert);\n",
       "      return toinsert\n",
       "    }\n",
       "\n",
       "    /* Handle when an output is cleared or removed */\n",
       "    events.on('clear_output.CodeCell', handleClearOutput);\n",
       "    events.on('delete.Cell', handleClearOutput);\n",
       "\n",
       "    /* Handle when a new output is added */\n",
       "    events.on('output_added.OutputArea', handleAddOutput);\n",
       "\n",
       "    /**\n",
       "     * Register the mime type and append_mime function with output_area\n",
       "     */\n",
       "    OutputArea.prototype.register_mime_type(EXEC_MIME_TYPE, append_mime, {\n",
       "      /* Is output safe? */\n",
       "      safe: true,\n",
       "      /* Index of renderer in `output_area.display_order` */\n",
       "      index: 0\n",
       "    });\n",
       "  }\n",
       "\n",
       "  // register the mime type if in Jupyter Notebook environment and previously unregistered\n",
       "  if (root.Jupyter !== undefined) {\n",
       "    var events = require('base/js/events');\n",
       "    var OutputArea = require('notebook/js/outputarea').OutputArea;\n",
       "\n",
       "    if (OutputArea.prototype.mime_types().indexOf(EXEC_MIME_TYPE) == -1) {\n",
       "      register_renderer(events, OutputArea);\n",
       "    }\n",
       "  }\n",
       "\n",
       "  \n",
       "  if (typeof (root._bokeh_timeout) === \"undefined\" || force === true) {\n",
       "    root._bokeh_timeout = Date.now() + 5000;\n",
       "    root._bokeh_failed_load = false;\n",
       "  }\n",
       "\n",
       "  var NB_LOAD_WARNING = {'data': {'text/html':\n",
       "     \"<div style='background-color: #fdd'>\\n\"+\n",
       "     \"<p>\\n\"+\n",
       "     \"BokehJS does not appear to have successfully loaded. If loading BokehJS from CDN, this \\n\"+\n",
       "     \"may be due to a slow or bad network connection. Possible fixes:\\n\"+\n",
       "     \"</p>\\n\"+\n",
       "     \"<ul>\\n\"+\n",
       "     \"<li>re-rerun `output_notebook()` to attempt to load from CDN again, or</li>\\n\"+\n",
       "     \"<li>use INLINE resources instead, as so:</li>\\n\"+\n",
       "     \"</ul>\\n\"+\n",
       "     \"<code>\\n\"+\n",
       "     \"from bokeh.resources import INLINE\\n\"+\n",
       "     \"output_notebook(resources=INLINE)\\n\"+\n",
       "     \"</code>\\n\"+\n",
       "     \"</div>\"}};\n",
       "\n",
       "  function display_loaded() {\n",
       "    var el = document.getElementById(\"1001\");\n",
       "    if (el != null) {\n",
       "      el.textContent = \"BokehJS is loading...\";\n",
       "    }\n",
       "    if (root.Bokeh !== undefined) {\n",
       "      if (el != null) {\n",
       "        el.textContent = \"BokehJS \" + root.Bokeh.version + \" successfully loaded.\";\n",
       "      }\n",
       "    } else if (Date.now() < root._bokeh_timeout) {\n",
       "      setTimeout(display_loaded, 100)\n",
       "    }\n",
       "  }\n",
       "\n",
       "\n",
       "  function run_callbacks() {\n",
       "    try {\n",
       "      root._bokeh_onload_callbacks.forEach(function(callback) {\n",
       "        if (callback != null)\n",
       "          callback();\n",
       "      });\n",
       "    } finally {\n",
       "      delete root._bokeh_onload_callbacks\n",
       "    }\n",
       "    console.debug(\"Bokeh: all callbacks have finished\");\n",
       "  }\n",
       "\n",
       "  function load_libs(css_urls, js_urls, callback) {\n",
       "    if (css_urls == null) css_urls = [];\n",
       "    if (js_urls == null) js_urls = [];\n",
       "\n",
       "    root._bokeh_onload_callbacks.push(callback);\n",
       "    if (root._bokeh_is_loading > 0) {\n",
       "      console.debug(\"Bokeh: BokehJS is being loaded, scheduling callback at\", now());\n",
       "      return null;\n",
       "    }\n",
       "    if (js_urls == null || js_urls.length === 0) {\n",
       "      run_callbacks();\n",
       "      return null;\n",
       "    }\n",
       "    console.debug(\"Bokeh: BokehJS not loaded, scheduling load and callback at\", now());\n",
       "    root._bokeh_is_loading = css_urls.length + js_urls.length;\n",
       "\n",
       "    function on_load() {\n",
       "      root._bokeh_is_loading--;\n",
       "      if (root._bokeh_is_loading === 0) {\n",
       "        console.debug(\"Bokeh: all BokehJS libraries/stylesheets loaded\");\n",
       "        run_callbacks()\n",
       "      }\n",
       "    }\n",
       "\n",
       "    function on_error() {\n",
       "      console.error(\"failed to load \" + url);\n",
       "    }\n",
       "\n",
       "    for (var i = 0; i < css_urls.length; i++) {\n",
       "      var url = css_urls[i];\n",
       "      const element = document.createElement(\"link\");\n",
       "      element.onload = on_load;\n",
       "      element.onerror = on_error;\n",
       "      element.rel = \"stylesheet\";\n",
       "      element.type = \"text/css\";\n",
       "      element.href = url;\n",
       "      console.debug(\"Bokeh: injecting link tag for BokehJS stylesheet: \", url);\n",
       "      document.body.appendChild(element);\n",
       "    }\n",
       "\n",
       "    const hashes = {\"https://cdn.bokeh.org/bokeh/release/bokeh-2.1.1.min.js\": \"kLr4fYcqcSpbuI95brIH3vnnYCquzzSxHPU6XGQCIkQRGJwhg0StNbj1eegrHs12\", \"https://cdn.bokeh.org/bokeh/release/bokeh-widgets-2.1.1.min.js\": \"xIGPmVtaOm+z0BqfSOMn4lOR6ciex448GIKG4eE61LsAvmGj48XcMQZtKcE/UXZe\", \"https://cdn.bokeh.org/bokeh/release/bokeh-tables-2.1.1.min.js\": \"Dc9u1wF/0zApGIWoBbH77iWEHtdmkuYWG839Uzmv8y8yBLXebjO9ZnERsde5Ln/P\", \"https://cdn.bokeh.org/bokeh/release/bokeh-gl-2.1.1.min.js\": \"cT9JaBz7GiRXdENrJLZNSC6eMNF3nh3fa5fTF51Svp+ukxPdwcU5kGXGPBgDCa2j\"};\n",
       "\n",
       "    for (var i = 0; i < js_urls.length; i++) {\n",
       "      var url = js_urls[i];\n",
       "      var element = document.createElement('script');\n",
       "      element.onload = on_load;\n",
       "      element.onerror = on_error;\n",
       "      element.async = false;\n",
       "      element.src = url;\n",
       "      if (url in hashes) {\n",
       "        element.crossOrigin = \"anonymous\";\n",
       "        element.integrity = \"sha384-\" + hashes[url];\n",
       "      }\n",
       "      console.debug(\"Bokeh: injecting script tag for BokehJS library: \", url);\n",
       "      document.head.appendChild(element);\n",
       "    }\n",
       "  };\n",
       "\n",
       "  function inject_raw_css(css) {\n",
       "    const element = document.createElement(\"style\");\n",
       "    element.appendChild(document.createTextNode(css));\n",
       "    document.body.appendChild(element);\n",
       "  }\n",
       "\n",
       "  \n",
       "  var js_urls = [\"https://cdn.bokeh.org/bokeh/release/bokeh-2.1.1.min.js\", \"https://cdn.bokeh.org/bokeh/release/bokeh-widgets-2.1.1.min.js\", \"https://cdn.bokeh.org/bokeh/release/bokeh-tables-2.1.1.min.js\", \"https://cdn.bokeh.org/bokeh/release/bokeh-gl-2.1.1.min.js\"];\n",
       "  var css_urls = [];\n",
       "  \n",
       "\n",
       "  var inline_js = [\n",
       "    function(Bokeh) {\n",
       "      Bokeh.set_log_level(\"info\");\n",
       "    },\n",
       "    function(Bokeh) {\n",
       "    \n",
       "    \n",
       "    }\n",
       "  ];\n",
       "\n",
       "  function run_inline_js() {\n",
       "    \n",
       "    if (root.Bokeh !== undefined || force === true) {\n",
       "      \n",
       "    for (var i = 0; i < inline_js.length; i++) {\n",
       "      inline_js[i].call(root, root.Bokeh);\n",
       "    }\n",
       "    if (force === true) {\n",
       "        display_loaded();\n",
       "      }} else if (Date.now() < root._bokeh_timeout) {\n",
       "      setTimeout(run_inline_js, 100);\n",
       "    } else if (!root._bokeh_failed_load) {\n",
       "      console.log(\"Bokeh: BokehJS failed to load within specified timeout.\");\n",
       "      root._bokeh_failed_load = true;\n",
       "    } else if (force !== true) {\n",
       "      var cell = $(document.getElementById(\"1001\")).parents('.cell').data().cell;\n",
       "      cell.output_area.append_execute_result(NB_LOAD_WARNING)\n",
       "    }\n",
       "\n",
       "  }\n",
       "\n",
       "  if (root._bokeh_is_loading === 0) {\n",
       "    console.debug(\"Bokeh: BokehJS loaded, going straight to plotting\");\n",
       "    run_inline_js();\n",
       "  } else {\n",
       "    load_libs(css_urls, js_urls, function() {\n",
       "      console.debug(\"Bokeh: BokehJS plotting callback run at\", now());\n",
       "      run_inline_js();\n",
       "    });\n",
       "  }\n",
       "}(window));"
      ],
      "application/vnd.bokehjs_load.v0+json": "\n(function(root) {\n  function now() {\n    return new Date();\n  }\n\n  var force = true;\n\n  if (typeof root._bokeh_onload_callbacks === \"undefined\" || force === true) {\n    root._bokeh_onload_callbacks = [];\n    root._bokeh_is_loading = undefined;\n  }\n\n  \n\n  \n  if (typeof (root._bokeh_timeout) === \"undefined\" || force === true) {\n    root._bokeh_timeout = Date.now() + 5000;\n    root._bokeh_failed_load = false;\n  }\n\n  var NB_LOAD_WARNING = {'data': {'text/html':\n     \"<div style='background-color: #fdd'>\\n\"+\n     \"<p>\\n\"+\n     \"BokehJS does not appear to have successfully loaded. If loading BokehJS from CDN, this \\n\"+\n     \"may be due to a slow or bad network connection. Possible fixes:\\n\"+\n     \"</p>\\n\"+\n     \"<ul>\\n\"+\n     \"<li>re-rerun `output_notebook()` to attempt to load from CDN again, or</li>\\n\"+\n     \"<li>use INLINE resources instead, as so:</li>\\n\"+\n     \"</ul>\\n\"+\n     \"<code>\\n\"+\n     \"from bokeh.resources import INLINE\\n\"+\n     \"output_notebook(resources=INLINE)\\n\"+\n     \"</code>\\n\"+\n     \"</div>\"}};\n\n  function display_loaded() {\n    var el = document.getElementById(\"1001\");\n    if (el != null) {\n      el.textContent = \"BokehJS is loading...\";\n    }\n    if (root.Bokeh !== undefined) {\n      if (el != null) {\n        el.textContent = \"BokehJS \" + root.Bokeh.version + \" successfully loaded.\";\n      }\n    } else if (Date.now() < root._bokeh_timeout) {\n      setTimeout(display_loaded, 100)\n    }\n  }\n\n\n  function run_callbacks() {\n    try {\n      root._bokeh_onload_callbacks.forEach(function(callback) {\n        if (callback != null)\n          callback();\n      });\n    } finally {\n      delete root._bokeh_onload_callbacks\n    }\n    console.debug(\"Bokeh: all callbacks have finished\");\n  }\n\n  function load_libs(css_urls, js_urls, callback) {\n    if (css_urls == null) css_urls = [];\n    if (js_urls == null) js_urls = [];\n\n    root._bokeh_onload_callbacks.push(callback);\n    if (root._bokeh_is_loading > 0) {\n      console.debug(\"Bokeh: BokehJS is being loaded, scheduling callback at\", now());\n      return null;\n    }\n    if (js_urls == null || js_urls.length === 0) {\n      run_callbacks();\n      return null;\n    }\n    console.debug(\"Bokeh: BokehJS not loaded, scheduling load and callback at\", now());\n    root._bokeh_is_loading = css_urls.length + js_urls.length;\n\n    function on_load() {\n      root._bokeh_is_loading--;\n      if (root._bokeh_is_loading === 0) {\n        console.debug(\"Bokeh: all BokehJS libraries/stylesheets loaded\");\n        run_callbacks()\n      }\n    }\n\n    function on_error() {\n      console.error(\"failed to load \" + url);\n    }\n\n    for (var i = 0; i < css_urls.length; i++) {\n      var url = css_urls[i];\n      const element = document.createElement(\"link\");\n      element.onload = on_load;\n      element.onerror = on_error;\n      element.rel = \"stylesheet\";\n      element.type = \"text/css\";\n      element.href = url;\n      console.debug(\"Bokeh: injecting link tag for BokehJS stylesheet: \", url);\n      document.body.appendChild(element);\n    }\n\n    const hashes = {\"https://cdn.bokeh.org/bokeh/release/bokeh-2.1.1.min.js\": \"kLr4fYcqcSpbuI95brIH3vnnYCquzzSxHPU6XGQCIkQRGJwhg0StNbj1eegrHs12\", \"https://cdn.bokeh.org/bokeh/release/bokeh-widgets-2.1.1.min.js\": \"xIGPmVtaOm+z0BqfSOMn4lOR6ciex448GIKG4eE61LsAvmGj48XcMQZtKcE/UXZe\", \"https://cdn.bokeh.org/bokeh/release/bokeh-tables-2.1.1.min.js\": \"Dc9u1wF/0zApGIWoBbH77iWEHtdmkuYWG839Uzmv8y8yBLXebjO9ZnERsde5Ln/P\", \"https://cdn.bokeh.org/bokeh/release/bokeh-gl-2.1.1.min.js\": \"cT9JaBz7GiRXdENrJLZNSC6eMNF3nh3fa5fTF51Svp+ukxPdwcU5kGXGPBgDCa2j\"};\n\n    for (var i = 0; i < js_urls.length; i++) {\n      var url = js_urls[i];\n      var element = document.createElement('script');\n      element.onload = on_load;\n      element.onerror = on_error;\n      element.async = false;\n      element.src = url;\n      if (url in hashes) {\n        element.crossOrigin = \"anonymous\";\n        element.integrity = \"sha384-\" + hashes[url];\n      }\n      console.debug(\"Bokeh: injecting script tag for BokehJS library: \", url);\n      document.head.appendChild(element);\n    }\n  };\n\n  function inject_raw_css(css) {\n    const element = document.createElement(\"style\");\n    element.appendChild(document.createTextNode(css));\n    document.body.appendChild(element);\n  }\n\n  \n  var js_urls = [\"https://cdn.bokeh.org/bokeh/release/bokeh-2.1.1.min.js\", \"https://cdn.bokeh.org/bokeh/release/bokeh-widgets-2.1.1.min.js\", \"https://cdn.bokeh.org/bokeh/release/bokeh-tables-2.1.1.min.js\", \"https://cdn.bokeh.org/bokeh/release/bokeh-gl-2.1.1.min.js\"];\n  var css_urls = [];\n  \n\n  var inline_js = [\n    function(Bokeh) {\n      Bokeh.set_log_level(\"info\");\n    },\n    function(Bokeh) {\n    \n    \n    }\n  ];\n\n  function run_inline_js() {\n    \n    if (root.Bokeh !== undefined || force === true) {\n      \n    for (var i = 0; i < inline_js.length; i++) {\n      inline_js[i].call(root, root.Bokeh);\n    }\n    if (force === true) {\n        display_loaded();\n      }} else if (Date.now() < root._bokeh_timeout) {\n      setTimeout(run_inline_js, 100);\n    } else if (!root._bokeh_failed_load) {\n      console.log(\"Bokeh: BokehJS failed to load within specified timeout.\");\n      root._bokeh_failed_load = true;\n    } else if (force !== true) {\n      var cell = $(document.getElementById(\"1001\")).parents('.cell').data().cell;\n      cell.output_area.append_execute_result(NB_LOAD_WARNING)\n    }\n\n  }\n\n  if (root._bokeh_is_loading === 0) {\n    console.debug(\"Bokeh: BokehJS loaded, going straight to plotting\");\n    run_inline_js();\n  } else {\n    load_libs(css_urls, js_urls, function() {\n      console.debug(\"Bokeh: BokehJS plotting callback run at\", now());\n      run_inline_js();\n    });\n  }\n}(window));"
     },
     "metadata": {},
     "output_type": "display_data"
    }
   ],
   "source": [
    "from bokeh.io import output_notebook\n",
    "output_notebook()"
   ]
  },
  {
   "cell_type": "code",
   "execution_count": 24,
   "metadata": {},
   "outputs": [],
   "source": [
    "time_df = df[(df.track=='Became Law')].groupby([df['date'].dt.strftime('%Y-%m'),'topic']).size().unstack(fill_value=0)"
   ]
  },
  {
   "cell_type": "code",
   "execution_count": 25,
   "metadata": {},
   "outputs": [
    {
     "data": {
      "text/html": [
       "\n",
       "\n",
       "\n",
       "\n",
       "\n",
       "\n",
       "  <div class=\"bk-root\" id=\"94da8485-f932-4bec-b8c9-1708bbdaff44\" data-root-id=\"1003\"></div>\n"
      ]
     },
     "metadata": {},
     "output_type": "display_data"
    },
    {
     "data": {
      "application/javascript": [
       "(function(root) {\n",
       "  function embed_document(root) {\n",
       "    \n",
       "  var docs_json = {\"80eda9b4-244e-4f98-9f10-994dab9e0f17\":{\"roots\":{\"references\":[{\"attributes\":{\"below\":[{\"id\":\"1014\"}],\"center\":[{\"id\":\"1016\"},{\"id\":\"1019\"}],\"left\":[{\"id\":\"1017\"}],\"plot_height\":300,\"plot_width\":800,\"renderers\":[{\"id\":\"1038\"}],\"right\":[{\"id\":\"1041\"}],\"title\":{\"id\":\"1004\"},\"toolbar\":{\"id\":\"1027\"},\"toolbar_location\":\"below\",\"x_range\":{\"id\":\"1006\"},\"x_scale\":{\"id\":\"1010\"},\"y_range\":{\"id\":\"1008\"},\"y_scale\":{\"id\":\"1012\"}},\"id\":\"1003\",\"subtype\":\"Figure\",\"type\":\"Plot\"},{\"attributes\":{\"fill_alpha\":{\"value\":0.1},\"fill_color\":{\"field\":\"value\",\"transform\":{\"id\":\"1002\"}},\"height\":{\"units\":\"data\",\"value\":1},\"line_alpha\":{\"value\":0.1},\"line_color\":{\"value\":null},\"width\":{\"units\":\"data\",\"value\":1},\"x\":{\"field\":\"Months\"},\"y\":{\"field\":\"Topics\"}},\"id\":\"1037\",\"type\":\"Rect\"},{\"attributes\":{},\"id\":\"1024\",\"type\":\"ResetTool\"},{\"attributes\":{},\"id\":\"1025\",\"type\":\"WheelZoomTool\"},{\"attributes\":{\"text\":\"My plot\"},\"id\":\"1004\",\"type\":\"Title\"},{\"attributes\":{\"data_source\":{\"id\":\"1034\"},\"glyph\":{\"id\":\"1036\"},\"hover_glyph\":null,\"muted_glyph\":null,\"nonselection_glyph\":{\"id\":\"1037\"},\"selection_glyph\":null,\"view\":{\"id\":\"1039\"}},\"id\":\"1038\",\"type\":\"GlyphRenderer\"},{\"attributes\":{\"overlay\":{\"id\":\"1026\"}},\"id\":\"1023\",\"type\":\"BoxZoomTool\"},{\"attributes\":{\"source\":{\"id\":\"1034\"}},\"id\":\"1039\",\"type\":\"CDSView\"},{\"attributes\":{\"data\":{\"Months\":[\"2017-01\",\"2017-01\",\"2017-01\",\"2017-01\",\"2017-01\",\"2017-01\",\"2017-01\",\"2017-01\",\"2017-01\",\"2017-01\",\"2017-01\",\"2017-01\",\"2017-01\",\"2017-01\",\"2017-01\",\"2017-02\",\"2017-02\",\"2017-02\",\"2017-02\",\"2017-02\",\"2017-02\",\"2017-02\",\"2017-02\",\"2017-02\",\"2017-02\",\"2017-02\",\"2017-02\",\"2017-02\",\"2017-02\",\"2017-02\",\"2017-03\",\"2017-03\",\"2017-03\",\"2017-03\",\"2017-03\",\"2017-03\",\"2017-03\",\"2017-03\",\"2017-03\",\"2017-03\",\"2017-03\",\"2017-03\",\"2017-03\",\"2017-03\",\"2017-03\",\"2017-04\",\"2017-04\",\"2017-04\",\"2017-04\",\"2017-04\",\"2017-04\",\"2017-04\",\"2017-04\",\"2017-04\",\"2017-04\",\"2017-04\",\"2017-04\",\"2017-04\",\"2017-04\",\"2017-04\",\"2017-05\",\"2017-05\",\"2017-05\",\"2017-05\",\"2017-05\",\"2017-05\",\"2017-05\",\"2017-05\",\"2017-05\",\"2017-05\",\"2017-05\",\"2017-05\",\"2017-05\",\"2017-05\",\"2017-05\",\"2017-06\",\"2017-06\",\"2017-06\",\"2017-06\",\"2017-06\",\"2017-06\",\"2017-06\",\"2017-06\",\"2017-06\",\"2017-06\",\"2017-06\",\"2017-06\",\"2017-06\",\"2017-06\",\"2017-06\",\"2017-07\",\"2017-07\",\"2017-07\",\"2017-07\",\"2017-07\",\"2017-07\",\"2017-07\",\"2017-07\",\"2017-07\",\"2017-07\",\"2017-07\",\"2017-07\",\"2017-07\",\"2017-07\",\"2017-07\",\"2017-08\",\"2017-08\",\"2017-08\",\"2017-08\",\"2017-08\",\"2017-08\",\"2017-08\",\"2017-08\",\"2017-08\",\"2017-08\",\"2017-08\",\"2017-08\",\"2017-08\",\"2017-08\",\"2017-08\",\"2017-09\",\"2017-09\",\"2017-09\",\"2017-09\",\"2017-09\",\"2017-09\",\"2017-09\",\"2017-09\",\"2017-09\",\"2017-09\",\"2017-09\",\"2017-09\",\"2017-09\",\"2017-09\",\"2017-09\",\"2017-10\",\"2017-10\",\"2017-10\",\"2017-10\",\"2017-10\",\"2017-10\",\"2017-10\",\"2017-10\",\"2017-10\",\"2017-10\",\"2017-10\",\"2017-10\",\"2017-10\",\"2017-10\",\"2017-10\",\"2017-11\",\"2017-11\",\"2017-11\",\"2017-11\",\"2017-11\",\"2017-11\",\"2017-11\",\"2017-11\",\"2017-11\",\"2017-11\",\"2017-11\",\"2017-11\",\"2017-11\",\"2017-11\",\"2017-11\",\"2017-12\",\"2017-12\",\"2017-12\",\"2017-12\",\"2017-12\",\"2017-12\",\"2017-12\",\"2017-12\",\"2017-12\",\"2017-12\",\"2017-12\",\"2017-12\",\"2017-12\",\"2017-12\",\"2017-12\",\"2018-01\",\"2018-01\",\"2018-01\",\"2018-01\",\"2018-01\",\"2018-01\",\"2018-01\",\"2018-01\",\"2018-01\",\"2018-01\",\"2018-01\",\"2018-01\",\"2018-01\",\"2018-01\",\"2018-01\",\"2018-02\",\"2018-02\",\"2018-02\",\"2018-02\",\"2018-02\",\"2018-02\",\"2018-02\",\"2018-02\",\"2018-02\",\"2018-02\",\"2018-02\",\"2018-02\",\"2018-02\",\"2018-02\",\"2018-02\",\"2018-03\",\"2018-03\",\"2018-03\",\"2018-03\",\"2018-03\",\"2018-03\",\"2018-03\",\"2018-03\",\"2018-03\",\"2018-03\",\"2018-03\",\"2018-03\",\"2018-03\",\"2018-03\",\"2018-03\",\"2018-04\",\"2018-04\",\"2018-04\",\"2018-04\",\"2018-04\",\"2018-04\",\"2018-04\",\"2018-04\",\"2018-04\",\"2018-04\",\"2018-04\",\"2018-04\",\"2018-04\",\"2018-04\",\"2018-04\",\"2018-05\",\"2018-05\",\"2018-05\",\"2018-05\",\"2018-05\",\"2018-05\",\"2018-05\",\"2018-05\",\"2018-05\",\"2018-05\",\"2018-05\",\"2018-05\",\"2018-05\",\"2018-05\",\"2018-05\",\"2018-06\",\"2018-06\",\"2018-06\",\"2018-06\",\"2018-06\",\"2018-06\",\"2018-06\",\"2018-06\",\"2018-06\",\"2018-06\",\"2018-06\",\"2018-06\",\"2018-06\",\"2018-06\",\"2018-06\",\"2018-07\",\"2018-07\",\"2018-07\",\"2018-07\",\"2018-07\",\"2018-07\",\"2018-07\",\"2018-07\",\"2018-07\",\"2018-07\",\"2018-07\",\"2018-07\",\"2018-07\",\"2018-07\",\"2018-07\",\"2018-08\",\"2018-08\",\"2018-08\",\"2018-08\",\"2018-08\",\"2018-08\",\"2018-08\",\"2018-08\",\"2018-08\",\"2018-08\",\"2018-08\",\"2018-08\",\"2018-08\",\"2018-08\",\"2018-08\",\"2018-09\",\"2018-09\",\"2018-09\",\"2018-09\",\"2018-09\",\"2018-09\",\"2018-09\",\"2018-09\",\"2018-09\",\"2018-09\",\"2018-09\",\"2018-09\",\"2018-09\",\"2018-09\",\"2018-09\",\"2018-11\",\"2018-11\",\"2018-11\",\"2018-11\",\"2018-11\",\"2018-11\",\"2018-11\",\"2018-11\",\"2018-11\",\"2018-11\",\"2018-11\",\"2018-11\",\"2018-11\",\"2018-11\",\"2018-11\",\"2018-12\",\"2018-12\",\"2018-12\",\"2018-12\",\"2018-12\",\"2018-12\",\"2018-12\",\"2018-12\",\"2018-12\",\"2018-12\",\"2018-12\",\"2018-12\",\"2018-12\",\"2018-12\",\"2018-12\",\"2019-01\",\"2019-01\",\"2019-01\",\"2019-01\",\"2019-01\",\"2019-01\",\"2019-01\",\"2019-01\",\"2019-01\",\"2019-01\",\"2019-01\",\"2019-01\",\"2019-01\",\"2019-01\",\"2019-01\",\"2019-02\",\"2019-02\",\"2019-02\",\"2019-02\",\"2019-02\",\"2019-02\",\"2019-02\",\"2019-02\",\"2019-02\",\"2019-02\",\"2019-02\",\"2019-02\",\"2019-02\",\"2019-02\",\"2019-02\",\"2019-03\",\"2019-03\",\"2019-03\",\"2019-03\",\"2019-03\",\"2019-03\",\"2019-03\",\"2019-03\",\"2019-03\",\"2019-03\",\"2019-03\",\"2019-03\",\"2019-03\",\"2019-03\",\"2019-03\",\"2019-04\",\"2019-04\",\"2019-04\",\"2019-04\",\"2019-04\",\"2019-04\",\"2019-04\",\"2019-04\",\"2019-04\",\"2019-04\",\"2019-04\",\"2019-04\",\"2019-04\",\"2019-04\",\"2019-04\",\"2019-05\",\"2019-05\",\"2019-05\",\"2019-05\",\"2019-05\",\"2019-05\",\"2019-05\",\"2019-05\",\"2019-05\",\"2019-05\",\"2019-05\",\"2019-05\",\"2019-05\",\"2019-05\",\"2019-05\",\"2019-06\",\"2019-06\",\"2019-06\",\"2019-06\",\"2019-06\",\"2019-06\",\"2019-06\",\"2019-06\",\"2019-06\",\"2019-06\",\"2019-06\",\"2019-06\",\"2019-06\",\"2019-06\",\"2019-06\",\"2019-07\",\"2019-07\",\"2019-07\",\"2019-07\",\"2019-07\",\"2019-07\",\"2019-07\",\"2019-07\",\"2019-07\",\"2019-07\",\"2019-07\",\"2019-07\",\"2019-07\",\"2019-07\",\"2019-07\",\"2019-09\",\"2019-09\",\"2019-09\",\"2019-09\",\"2019-09\",\"2019-09\",\"2019-09\",\"2019-09\",\"2019-09\",\"2019-09\",\"2019-09\",\"2019-09\",\"2019-09\",\"2019-09\",\"2019-09\",\"2019-10\",\"2019-10\",\"2019-10\",\"2019-10\",\"2019-10\",\"2019-10\",\"2019-10\",\"2019-10\",\"2019-10\",\"2019-10\",\"2019-10\",\"2019-10\",\"2019-10\",\"2019-10\",\"2019-10\",\"2019-11\",\"2019-11\",\"2019-11\",\"2019-11\",\"2019-11\",\"2019-11\",\"2019-11\",\"2019-11\",\"2019-11\",\"2019-11\",\"2019-11\",\"2019-11\",\"2019-11\",\"2019-11\",\"2019-11\",\"2019-12\",\"2019-12\",\"2019-12\",\"2019-12\",\"2019-12\",\"2019-12\",\"2019-12\",\"2019-12\",\"2019-12\",\"2019-12\",\"2019-12\",\"2019-12\",\"2019-12\",\"2019-12\",\"2019-12\",\"2020-01\",\"2020-01\",\"2020-01\",\"2020-01\",\"2020-01\",\"2020-01\",\"2020-01\",\"2020-01\",\"2020-01\",\"2020-01\",\"2020-01\",\"2020-01\",\"2020-01\",\"2020-01\",\"2020-01\",\"2020-03\",\"2020-03\",\"2020-03\",\"2020-03\",\"2020-03\",\"2020-03\",\"2020-03\",\"2020-03\",\"2020-03\",\"2020-03\",\"2020-03\",\"2020-03\",\"2020-03\",\"2020-03\",\"2020-03\",\"2020-05\",\"2020-05\",\"2020-05\",\"2020-05\",\"2020-05\",\"2020-05\",\"2020-05\",\"2020-05\",\"2020-05\",\"2020-05\",\"2020-05\",\"2020-05\",\"2020-05\",\"2020-05\",\"2020-05\",\"2020-07\",\"2020-07\",\"2020-07\",\"2020-07\",\"2020-07\",\"2020-07\",\"2020-07\",\"2020-07\",\"2020-07\",\"2020-07\",\"2020-07\",\"2020-07\",\"2020-07\",\"2020-07\",\"2020-07\"],\"Topics\":[\"Border\",\"Budget\",\"Chemical Substances\",\"Civil Law\",\"Diplomacy\",\"Education\",\"Elections\",\"Health Care\",\"Infrastructure\",\"Labor / Immigration\",\"Military\",\"Natural Resources\",\"Regulations\",\"Small Business\",\"Tax Code\",\"Border\",\"Budget\",\"Chemical Substances\",\"Civil Law\",\"Diplomacy\",\"Education\",\"Elections\",\"Health Care\",\"Infrastructure\",\"Labor / Immigration\",\"Military\",\"Natural Resources\",\"Regulations\",\"Small Business\",\"Tax Code\",\"Border\",\"Budget\",\"Chemical Substances\",\"Civil Law\",\"Diplomacy\",\"Education\",\"Elections\",\"Health Care\",\"Infrastructure\",\"Labor / Immigration\",\"Military\",\"Natural Resources\",\"Regulations\",\"Small Business\",\"Tax Code\",\"Border\",\"Budget\",\"Chemical Substances\",\"Civil Law\",\"Diplomacy\",\"Education\",\"Elections\",\"Health Care\",\"Infrastructure\",\"Labor / Immigration\",\"Military\",\"Natural Resources\",\"Regulations\",\"Small Business\",\"Tax Code\",\"Border\",\"Budget\",\"Chemical Substances\",\"Civil Law\",\"Diplomacy\",\"Education\",\"Elections\",\"Health Care\",\"Infrastructure\",\"Labor / Immigration\",\"Military\",\"Natural Resources\",\"Regulations\",\"Small Business\",\"Tax Code\",\"Border\",\"Budget\",\"Chemical Substances\",\"Civil Law\",\"Diplomacy\",\"Education\",\"Elections\",\"Health Care\",\"Infrastructure\",\"Labor / Immigration\",\"Military\",\"Natural Resources\",\"Regulations\",\"Small Business\",\"Tax Code\",\"Border\",\"Budget\",\"Chemical Substances\",\"Civil Law\",\"Diplomacy\",\"Education\",\"Elections\",\"Health Care\",\"Infrastructure\",\"Labor / Immigration\",\"Military\",\"Natural Resources\",\"Regulations\",\"Small Business\",\"Tax Code\",\"Border\",\"Budget\",\"Chemical Substances\",\"Civil Law\",\"Diplomacy\",\"Education\",\"Elections\",\"Health Care\",\"Infrastructure\",\"Labor / Immigration\",\"Military\",\"Natural Resources\",\"Regulations\",\"Small Business\",\"Tax Code\",\"Border\",\"Budget\",\"Chemical Substances\",\"Civil Law\",\"Diplomacy\",\"Education\",\"Elections\",\"Health Care\",\"Infrastructure\",\"Labor / Immigration\",\"Military\",\"Natural Resources\",\"Regulations\",\"Small Business\",\"Tax Code\",\"Border\",\"Budget\",\"Chemical Substances\",\"Civil Law\",\"Diplomacy\",\"Education\",\"Elections\",\"Health Care\",\"Infrastructure\",\"Labor / Immigration\",\"Military\",\"Natural Resources\",\"Regulations\",\"Small Business\",\"Tax Code\",\"Border\",\"Budget\",\"Chemical Substances\",\"Civil Law\",\"Diplomacy\",\"Education\",\"Elections\",\"Health Care\",\"Infrastructure\",\"Labor / Immigration\",\"Military\",\"Natural Resources\",\"Regulations\",\"Small Business\",\"Tax Code\",\"Border\",\"Budget\",\"Chemical Substances\",\"Civil Law\",\"Diplomacy\",\"Education\",\"Elections\",\"Health Care\",\"Infrastructure\",\"Labor / Immigration\",\"Military\",\"Natural Resources\",\"Regulations\",\"Small Business\",\"Tax Code\",\"Border\",\"Budget\",\"Chemical Substances\",\"Civil Law\",\"Diplomacy\",\"Education\",\"Elections\",\"Health Care\",\"Infrastructure\",\"Labor / Immigration\",\"Military\",\"Natural Resources\",\"Regulations\",\"Small Business\",\"Tax Code\",\"Border\",\"Budget\",\"Chemical Substances\",\"Civil Law\",\"Diplomacy\",\"Education\",\"Elections\",\"Health Care\",\"Infrastructure\",\"Labor / Immigration\",\"Military\",\"Natural Resources\",\"Regulations\",\"Small Business\",\"Tax Code\",\"Border\",\"Budget\",\"Chemical Substances\",\"Civil Law\",\"Diplomacy\",\"Education\",\"Elections\",\"Health Care\",\"Infrastructure\",\"Labor / Immigration\",\"Military\",\"Natural Resources\",\"Regulations\",\"Small Business\",\"Tax Code\",\"Border\",\"Budget\",\"Chemical Substances\",\"Civil Law\",\"Diplomacy\",\"Education\",\"Elections\",\"Health Care\",\"Infrastructure\",\"Labor / Immigration\",\"Military\",\"Natural Resources\",\"Regulations\",\"Small Business\",\"Tax Code\",\"Border\",\"Budget\",\"Chemical Substances\",\"Civil Law\",\"Diplomacy\",\"Education\",\"Elections\",\"Health Care\",\"Infrastructure\",\"Labor / Immigration\",\"Military\",\"Natural Resources\",\"Regulations\",\"Small Business\",\"Tax Code\",\"Border\",\"Budget\",\"Chemical Substances\",\"Civil Law\",\"Diplomacy\",\"Education\",\"Elections\",\"Health Care\",\"Infrastructure\",\"Labor / Immigration\",\"Military\",\"Natural Resources\",\"Regulations\",\"Small Business\",\"Tax Code\",\"Border\",\"Budget\",\"Chemical Substances\",\"Civil Law\",\"Diplomacy\",\"Education\",\"Elections\",\"Health Care\",\"Infrastructure\",\"Labor / Immigration\",\"Military\",\"Natural Resources\",\"Regulations\",\"Small Business\",\"Tax Code\",\"Border\",\"Budget\",\"Chemical Substances\",\"Civil Law\",\"Diplomacy\",\"Education\",\"Elections\",\"Health Care\",\"Infrastructure\",\"Labor / Immigration\",\"Military\",\"Natural Resources\",\"Regulations\",\"Small Business\",\"Tax Code\",\"Border\",\"Budget\",\"Chemical Substances\",\"Civil Law\",\"Diplomacy\",\"Education\",\"Elections\",\"Health Care\",\"Infrastructure\",\"Labor / Immigration\",\"Military\",\"Natural Resources\",\"Regulations\",\"Small Business\",\"Tax Code\",\"Border\",\"Budget\",\"Chemical Substances\",\"Civil Law\",\"Diplomacy\",\"Education\",\"Elections\",\"Health Care\",\"Infrastructure\",\"Labor / Immigration\",\"Military\",\"Natural Resources\",\"Regulations\",\"Small Business\",\"Tax Code\",\"Border\",\"Budget\",\"Chemical Substances\",\"Civil Law\",\"Diplomacy\",\"Education\",\"Elections\",\"Health Care\",\"Infrastructure\",\"Labor / Immigration\",\"Military\",\"Natural Resources\",\"Regulations\",\"Small Business\",\"Tax Code\",\"Border\",\"Budget\",\"Chemical Substances\",\"Civil Law\",\"Diplomacy\",\"Education\",\"Elections\",\"Health Care\",\"Infrastructure\",\"Labor / Immigration\",\"Military\",\"Natural Resources\",\"Regulations\",\"Small Business\",\"Tax Code\",\"Border\",\"Budget\",\"Chemical Substances\",\"Civil Law\",\"Diplomacy\",\"Education\",\"Elections\",\"Health Care\",\"Infrastructure\",\"Labor / Immigration\",\"Military\",\"Natural Resources\",\"Regulations\",\"Small Business\",\"Tax Code\",\"Border\",\"Budget\",\"Chemical Substances\",\"Civil Law\",\"Diplomacy\",\"Education\",\"Elections\",\"Health Care\",\"Infrastructure\",\"Labor / Immigration\",\"Military\",\"Natural Resources\",\"Regulations\",\"Small Business\",\"Tax Code\",\"Border\",\"Budget\",\"Chemical Substances\",\"Civil Law\",\"Diplomacy\",\"Education\",\"Elections\",\"Health Care\",\"Infrastructure\",\"Labor / Immigration\",\"Military\",\"Natural Resources\",\"Regulations\",\"Small Business\",\"Tax Code\",\"Border\",\"Budget\",\"Chemical Substances\",\"Civil Law\",\"Diplomacy\",\"Education\",\"Elections\",\"Health Care\",\"Infrastructure\",\"Labor / Immigration\",\"Military\",\"Natural Resources\",\"Regulations\",\"Small Business\",\"Tax Code\",\"Border\",\"Budget\",\"Chemical Substances\",\"Civil Law\",\"Diplomacy\",\"Education\",\"Elections\",\"Health Care\",\"Infrastructure\",\"Labor / Immigration\",\"Military\",\"Natural Resources\",\"Regulations\",\"Small Business\",\"Tax Code\",\"Border\",\"Budget\",\"Chemical Substances\",\"Civil Law\",\"Diplomacy\",\"Education\",\"Elections\",\"Health Care\",\"Infrastructure\",\"Labor / Immigration\",\"Military\",\"Natural Resources\",\"Regulations\",\"Small Business\",\"Tax Code\",\"Border\",\"Budget\",\"Chemical Substances\",\"Civil Law\",\"Diplomacy\",\"Education\",\"Elections\",\"Health Care\",\"Infrastructure\",\"Labor / Immigration\",\"Military\",\"Natural Resources\",\"Regulations\",\"Small Business\",\"Tax Code\",\"Border\",\"Budget\",\"Chemical Substances\",\"Civil Law\",\"Diplomacy\",\"Education\",\"Elections\",\"Health Care\",\"Infrastructure\",\"Labor / Immigration\",\"Military\",\"Natural Resources\",\"Regulations\",\"Small Business\",\"Tax Code\",\"Border\",\"Budget\",\"Chemical Substances\",\"Civil Law\",\"Diplomacy\",\"Education\",\"Elections\",\"Health Care\",\"Infrastructure\",\"Labor / Immigration\",\"Military\",\"Natural Resources\",\"Regulations\",\"Small Business\",\"Tax Code\",\"Border\",\"Budget\",\"Chemical Substances\",\"Civil Law\",\"Diplomacy\",\"Education\",\"Elections\",\"Health Care\",\"Infrastructure\",\"Labor / Immigration\",\"Military\",\"Natural Resources\",\"Regulations\",\"Small Business\",\"Tax Code\",\"Border\",\"Budget\",\"Chemical Substances\",\"Civil Law\",\"Diplomacy\",\"Education\",\"Elections\",\"Health Care\",\"Infrastructure\",\"Labor / Immigration\",\"Military\",\"Natural Resources\",\"Regulations\",\"Small Business\",\"Tax Code\",\"Border\",\"Budget\",\"Chemical Substances\",\"Civil Law\",\"Diplomacy\",\"Education\",\"Elections\",\"Health Care\",\"Infrastructure\",\"Labor / Immigration\",\"Military\",\"Natural Resources\",\"Regulations\",\"Small Business\",\"Tax Code\",\"Border\",\"Budget\",\"Chemical Substances\",\"Civil Law\",\"Diplomacy\",\"Education\",\"Elections\",\"Health Care\",\"Infrastructure\",\"Labor / Immigration\",\"Military\",\"Natural Resources\",\"Regulations\",\"Small Business\",\"Tax Code\",\"Border\",\"Budget\",\"Chemical Substances\",\"Civil Law\",\"Diplomacy\",\"Education\",\"Elections\",\"Health Care\",\"Infrastructure\",\"Labor / Immigration\",\"Military\",\"Natural Resources\",\"Regulations\",\"Small Business\",\"Tax Code\"],\"index\":[0,1,2,3,4,5,6,7,8,9,10,11,12,13,14,15,16,17,18,19,20,21,22,23,24,25,26,27,28,29,30,31,32,33,34,35,36,37,38,39,40,41,42,43,44,45,46,47,48,49,50,51,52,53,54,55,56,57,58,59,60,61,62,63,64,65,66,67,68,69,70,71,72,73,74,75,76,77,78,79,80,81,82,83,84,85,86,87,88,89,90,91,92,93,94,95,96,97,98,99,100,101,102,103,104,105,106,107,108,109,110,111,112,113,114,115,116,117,118,119,120,121,122,123,124,125,126,127,128,129,130,131,132,133,134,135,136,137,138,139,140,141,142,143,144,145,146,147,148,149,150,151,152,153,154,155,156,157,158,159,160,161,162,163,164,165,166,167,168,169,170,171,172,173,174,175,176,177,178,179,180,181,182,183,184,185,186,187,188,189,190,191,192,193,194,195,196,197,198,199,200,201,202,203,204,205,206,207,208,209,210,211,212,213,214,215,216,217,218,219,220,221,222,223,224,225,226,227,228,229,230,231,232,233,234,235,236,237,238,239,240,241,242,243,244,245,246,247,248,249,250,251,252,253,254,255,256,257,258,259,260,261,262,263,264,265,266,267,268,269,270,271,272,273,274,275,276,277,278,279,280,281,282,283,284,285,286,287,288,289,290,291,292,293,294,295,296,297,298,299,300,301,302,303,304,305,306,307,308,309,310,311,312,313,314,315,316,317,318,319,320,321,322,323,324,325,326,327,328,329,330,331,332,333,334,335,336,337,338,339,340,341,342,343,344,345,346,347,348,349,350,351,352,353,354,355,356,357,358,359,360,361,362,363,364,365,366,367,368,369,370,371,372,373,374,375,376,377,378,379,380,381,382,383,384,385,386,387,388,389,390,391,392,393,394,395,396,397,398,399,400,401,402,403,404,405,406,407,408,409,410,411,412,413,414,415,416,417,418,419,420,421,422,423,424,425,426,427,428,429,430,431,432,433,434,435,436,437,438,439,440,441,442,443,444,445,446,447,448,449,450,451,452,453,454,455,456,457,458,459,460,461,462,463,464,465,466,467,468,469,470,471,472,473,474,475,476,477,478,479,480,481,482,483,484,485,486,487,488,489,490,491,492,493,494,495,496,497,498,499,500,501,502,503,504,505,506,507,508,509,510,511,512,513,514,515,516,517,518,519,520,521,522,523,524,525,526,527,528,529,530,531,532,533,534,535,536,537,538,539,540,541,542,543,544,545,546,547,548,549,550,551,552,553,554,555,556,557,558,559,560,561,562,563,564,565,566,567,568,569],\"value\":[1,3,2,0,7,0,0,3,6,0,0,13,10,0,0,1,1,0,0,2,0,0,2,1,0,1,10,4,0,0,0,3,1,1,0,0,0,2,3,0,1,4,2,0,1,3,0,0,2,5,0,0,2,0,0,1,5,2,0,0,1,1,1,0,1,1,0,2,0,0,0,7,4,1,0,0,0,0,0,0,0,0,0,0,0,1,4,3,1,1,2,1,0,1,1,1,0,0,1,0,2,6,2,0,0,0,0,0,0,0,0,0,0,0,0,1,3,0,0,0,1,1,0,0,1,0,0,1,0,0,1,2,0,0,1,0,0,0,1,0,1,0,1,0,0,0,4,1,1,0,1,0,2,0,1,0,0,0,1,0,0,6,1,0,1,1,0,0,0,0,0,0,1,0,1,0,8,0,0,0,0,0,0,1,0,0,0,0,1,0,0,4,0,1,0,0,0,0,0,0,0,0,0,2,0,0,3,0,0,1,0,0,0,0,0,0,0,1,0,0,0,6,0,0,0,0,0,1,0,0,1,1,0,0,0,1,3,0,0,0,1,1,0,0,0,0,0,0,0,1,0,9,1,0,0,0,1,0,0,0,1,0,2,1,0,0,7,1,0,0,1,0,0,0,0,0,0,1,0,0,0,8,1,3,0,0,0,0,0,1,0,0,0,0,0,0,1,0,0,0,1,0,0,2,0,0,0,0,1,0,0,3,1,0,1,0,0,0,0,0,0,0,0,0,1,0,0,1,0,0,1,0,0,0,0,0,0,0,1,0,0,2,2,1,0,3,2,0,1,1,2,0,2,1,0,1,6,5,0,0,0,2,0,0,2,0,0,1,0,1,0,8,1,0,1,1,2,0,1,0,0,0,1,0,0,0,3,0,0,0,0,1,0,1,2,1,0,1,0,0,0,3,1,0,1,1,1,0,0,0,0,0,0,0,0,0,2,0,0,1,0,2,0,0,1,0,0,1,0,0,0,4,2,1,0,0,1,0,1,0,0,0,0,0,0,0,0,0,0,0,0,1,0,1,0,0,0,1,0,0,1,0,0,0,1,1,0,0,0,0,0,0,0,0,0,0,0,1,0,0,0,0,0,1,0,0,0,0,0,0,0,0,1,0,0,0,0,1,0,0,0,0,0,0,0,0,0,1,0,1,0,0,0,0,0,0,0,0,0,0,1,0,0,0,0,0,1,0,0,0,0,0,0,0,2,0,0,0,0,0,0,0,0,0,0,0,0,0,0,0,0,0,0,0,1,0,0,0,0,1,0,0,0,0,0,0,0,0,0,0]},\"selected\":{\"id\":\"1049\"},\"selection_policy\":{\"id\":\"1050\"}},\"id\":\"1034\",\"type\":\"ColumnDataSource\"},{\"attributes\":{},\"id\":\"1044\",\"type\":\"BasicTickFormatter\"},{\"attributes\":{\"desired_num_ticks\":13},\"id\":\"1040\",\"type\":\"BasicTicker\"},{\"attributes\":{},\"id\":\"1022\",\"type\":\"PanTool\"},{\"attributes\":{},\"id\":\"1010\",\"type\":\"CategoricalScale\"},{\"attributes\":{},\"id\":\"1021\",\"type\":\"SaveTool\"},{\"attributes\":{\"callback\":null,\"tooltips\":[[\"Month\",\"@Months\"],[\"Bills\",\"@value\"]]},\"id\":\"1020\",\"type\":\"HoverTool\"},{\"attributes\":{\"active_drag\":\"auto\",\"active_inspect\":\"auto\",\"active_multi\":null,\"active_scroll\":\"auto\",\"active_tap\":\"auto\",\"tools\":[{\"id\":\"1020\"},{\"id\":\"1021\"},{\"id\":\"1022\"},{\"id\":\"1023\"},{\"id\":\"1024\"},{\"id\":\"1025\"}]},\"id\":\"1027\",\"type\":\"Toolbar\"},{\"attributes\":{},\"id\":\"1045\",\"type\":\"CategoricalTickFormatter\"},{\"attributes\":{},\"id\":\"1049\",\"type\":\"Selection\"},{\"attributes\":{},\"id\":\"1050\",\"type\":\"UnionRenderers\"},{\"attributes\":{\"bottom_units\":\"screen\",\"fill_alpha\":0.5,\"fill_color\":\"lightgrey\",\"left_units\":\"screen\",\"level\":\"overlay\",\"line_alpha\":1.0,\"line_color\":\"black\",\"line_dash\":[4,4],\"line_width\":2,\"right_units\":\"screen\",\"top_units\":\"screen\"},\"id\":\"1026\",\"type\":\"BoxAnnotation\"},{\"attributes\":{},\"id\":\"1018\",\"type\":\"CategoricalTicker\"},{\"attributes\":{\"high\":13,\"low\":0,\"palette\":[\"#000000\",\"#330000\",\"#6F0606\",\"#C32B2B\",\"#F31E1E\",\"#FF9406\",\"#FC9207\",\"#F5C88D\",\"#FFFF01\",\"#FAF44B\",\"#F0F974\",\"#DCDCC8\",\"#F7F7EB\"]},\"id\":\"1002\",\"type\":\"LinearColorMapper\"},{\"attributes\":{},\"id\":\"1012\",\"type\":\"CategoricalScale\"},{\"attributes\":{\"factors\":[\"2017-01\",\"2017-02\",\"2017-03\",\"2017-04\",\"2017-05\",\"2017-06\",\"2017-07\",\"2017-08\",\"2017-09\",\"2017-10\",\"2017-11\",\"2017-12\",\"2018-01\",\"2018-02\",\"2018-03\",\"2018-04\",\"2018-05\",\"2018-06\",\"2018-07\",\"2018-08\",\"2018-09\",\"2018-11\",\"2018-12\",\"2019-01\",\"2019-02\",\"2019-03\",\"2019-04\",\"2019-05\",\"2019-06\",\"2019-07\",\"2019-09\",\"2019-10\",\"2019-11\",\"2019-12\",\"2020-01\",\"2020-03\",\"2020-05\",\"2020-07\"]},\"id\":\"1006\",\"type\":\"FactorRange\"},{\"attributes\":{\"formatter\":{\"id\":\"1047\"},\"ticker\":{\"id\":\"1018\"}},\"id\":\"1017\",\"type\":\"CategoricalAxis\"},{\"attributes\":{},\"id\":\"1047\",\"type\":\"CategoricalTickFormatter\"},{\"attributes\":{},\"id\":\"1015\",\"type\":\"CategoricalTicker\"},{\"attributes\":{\"fill_color\":{\"field\":\"value\",\"transform\":{\"id\":\"1002\"}},\"height\":{\"units\":\"data\",\"value\":1},\"line_color\":{\"value\":null},\"width\":{\"units\":\"data\",\"value\":1},\"x\":{\"field\":\"Months\"},\"y\":{\"field\":\"Topics\"}},\"id\":\"1036\",\"type\":\"Rect\"},{\"attributes\":{\"axis\":{\"id\":\"1014\"},\"ticker\":null},\"id\":\"1016\",\"type\":\"Grid\"},{\"attributes\":{\"factors\":[\"Border\",\"Budget\",\"Chemical Substances\",\"Civil Law\",\"Diplomacy\",\"Education\",\"Elections\",\"Health Care\",\"Infrastructure\",\"Labor / Immigration\",\"Military\",\"Natural Resources\",\"Regulations\",\"Small Business\",\"Tax Code\"]},\"id\":\"1008\",\"type\":\"FactorRange\"},{\"attributes\":{\"color_mapper\":{\"id\":\"1002\"},\"formatter\":{\"id\":\"1044\"},\"location\":[0,0],\"ticker\":{\"id\":\"1040\"}},\"id\":\"1041\",\"type\":\"ColorBar\"},{\"attributes\":{\"formatter\":{\"id\":\"1045\"},\"major_label_orientation\":0.8,\"ticker\":{\"id\":\"1015\"}},\"id\":\"1014\",\"type\":\"CategoricalAxis\"},{\"attributes\":{\"axis\":{\"id\":\"1017\"},\"dimension\":1,\"ticker\":null},\"id\":\"1019\",\"type\":\"Grid\"}],\"root_ids\":[\"1003\"]},\"title\":\"Bokeh Application\",\"version\":\"2.1.1\"}};\n",
       "  var render_items = [{\"docid\":\"80eda9b4-244e-4f98-9f10-994dab9e0f17\",\"root_ids\":[\"1003\"],\"roots\":{\"1003\":\"94da8485-f932-4bec-b8c9-1708bbdaff44\"}}];\n",
       "  root.Bokeh.embed.embed_items_notebook(docs_json, render_items);\n",
       "\n",
       "  }\n",
       "  if (root.Bokeh !== undefined) {\n",
       "    embed_document(root);\n",
       "  } else {\n",
       "    var attempts = 0;\n",
       "    var timer = setInterval(function(root) {\n",
       "      if (root.Bokeh !== undefined) {\n",
       "        clearInterval(timer);\n",
       "        embed_document(root);\n",
       "      } else {\n",
       "        attempts++;\n",
       "        if (attempts > 100) {\n",
       "          clearInterval(timer);\n",
       "          console.log(\"Bokeh: ERROR: Unable to run BokehJS code because BokehJS library is missing\");\n",
       "        }\n",
       "      }\n",
       "    }, 10, root)\n",
       "  }\n",
       "})(window);"
      ],
      "application/vnd.bokehjs_exec.v0+json": ""
     },
     "metadata": {
      "application/vnd.bokehjs_exec.v0+json": {
       "id": "1003"
      }
     },
     "output_type": "display_data"
    }
   ],
   "source": [
    "time_df.index.name = 'Months'\n",
    "time_df.columns.name = 'Topics'\n",
    "\n",
    "time_df = time_df.stack().rename(\"value\").reset_index()\n",
    "\n",
    "colors = ['#000000','#330000','#6F0606', '#C32B2B','#F31E1E','#FF9406','#FC9207','#F5C88D','#FFFF01',\n",
    "              '#FAF44B','#F0F974','#DCDCC8','#F7F7EB']\n",
    "mapper = LinearColorMapper(\n",
    "    palette=colors, low=time_df.value.min(), high=time_df.value.max())\n",
    "\n",
    "TOOLS = \"hover,save,pan,box_zoom,reset,wheel_zoom\"\n",
    "p = figure(\n",
    "    plot_width=800,\n",
    "    plot_height=300,\n",
    "    title=\"My plot\",\n",
    "    x_range=list(time_df.Months.drop_duplicates()),\n",
    "    y_range=list(time_df.Topics.drop_duplicates()),\n",
    "    tools=TOOLS, toolbar_location='below',\n",
    "           tooltips=[('Month', '@Months'), ('Bills', '@value')],\n",
    "    x_axis_location=\"below\")\n",
    "# Create rectangle for heatmap\n",
    "p.rect(\n",
    "    x=\"Months\",\n",
    "    y=\"Topics\",\n",
    "    width=1,\n",
    "    height=1,\n",
    "    source=ColumnDataSource(time_df),\n",
    "    line_color=None,\n",
    "    fill_color=transform('value', mapper))\n",
    "# Add legend\n",
    "color_bar = ColorBar(\n",
    "    color_mapper=mapper,\n",
    "    location=(0, 0),\n",
    "    ticker=BasicTicker(desired_num_ticks=len(colors)))\n",
    "\n",
    "p.add_layout(color_bar, 'right')\n",
    "p.xaxis.major_label_orientation = 0.8\n",
    "show(p)"
   ]
  },
  {
   "cell_type": "code",
   "execution_count": null,
   "metadata": {},
   "outputs": [],
   "source": []
  }
 ],
 "metadata": {
  "kernelspec": {
   "display_name": "Python 3",
   "language": "python",
   "name": "python3"
  },
  "language_info": {
   "codemirror_mode": {
    "name": "ipython",
    "version": 3
   },
   "file_extension": ".py",
   "mimetype": "text/x-python",
   "name": "python",
   "nbconvert_exporter": "python",
   "pygments_lexer": "ipython3",
   "version": "3.7.6"
  }
 },
 "nbformat": 4,
 "nbformat_minor": 4
}
