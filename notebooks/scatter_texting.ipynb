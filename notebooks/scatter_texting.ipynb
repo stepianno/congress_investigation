{
 "cells": [
  {
   "cell_type": "markdown",
   "metadata": {},
   "source": [
    "Using the topic models, I create a ScatterText graph for every topic to contrast how Republicans and Democrats talk about each topic differently"
   ]
  },
  {
   "cell_type": "code",
   "execution_count": null,
   "metadata": {},
   "outputs": [],
   "source": [
    "from pymongo import MongoClient\n",
    "config = {\n",
    "    'host': 'xx.xxxx.xxxx.xx',\n",
    "    'username': 'xxxxxxxx',\n",
    "    'password': 'xxxxxxxx',\n",
    "    'authSource': 'cool'\n",
    "}\n",
    "\n",
    "client = MongoClient(**config)\n",
    "db = client.cool"
   ]
  },
  {
   "cell_type": "code",
   "execution_count": null,
   "metadata": {},
   "outputs": [],
   "source": [
    "db.bills.count_documents({})"
   ]
  },
  {
   "cell_type": "code",
   "execution_count": null,
   "metadata": {},
   "outputs": [],
   "source": [
    "import pandas as pd\n",
    "import numpy as np\n",
    "import re"
   ]
  },
  {
   "cell_type": "markdown",
   "metadata": {},
   "source": [
    "Again, I use stop words to preprocess the text of each bill and prepare them for making the ScatterText"
   ]
  },
  {
   "cell_type": "code",
   "execution_count": null,
   "metadata": {},
   "outputs": [],
   "source": [
    "real_stops = ['secretary', 'insert','inserting','striking','program','plan','note','rule','agency',\n",
    "             'administration','subparagraph','later','services','appropriate','administrator',\n",
    "             'commission','faa', 'national','usc','assistance','eligible','service','clause',\n",
    "             'development','respect','apply','case','percent','determined','board','subtitle',\n",
    "             'person','period','office','use','programs','individuals','systems','revies','study',\n",
    "             'public','management','administering','imposed','authority','relating','state',\n",
    "             'federal','project','law','review','central','agencies','subsection','san',\n",
    "             'subsection','activities','attorney','department','resolution','joint','rules',\n",
    "             'date','effect','described','motion','report','major','days','day','consideration',\n",
    "             'order', 'amended','paragraph','entities','counsel','mr','ms','proposed','information',\n",
    "             'local','written','affairs', 'non','year','month','members','committees','government',\n",
    "             'head','member','general','shall','action','assessment','subject','including',\n",
    "             'available','purposes','term','provided','remain','necessary','used','end','president',\n",
    "             'zzz','zz','zuni','zuhair','zte','zour','zou','zoster','zoris','zor', 'heading','subheading',\n",
    "             'chapter','change','new','subchapter','numerical','sequence','designed','appropriated',\n",
    "             'september',]"
   ]
  },
  {
   "cell_type": "code",
   "execution_count": null,
   "metadata": {},
   "outputs": [],
   "source": [
    "from sklearn.feature_extraction import text\n",
    "stops = text.ENGLISH_STOP_WORDS\n",
    "stops = list(stops) + real_stops"
   ]
  },
  {
   "cell_type": "code",
   "execution_count": null,
   "metadata": {},
   "outputs": [],
   "source": [
    "def text_clean(text, stops):\n",
    "    text = re.sub('\\\\n', ' ', text)\n",
    "    text = re.sub('_', ' ', text)\n",
    "    text = re.sub('\\[.{,50}\\]', ' ', text)\n",
    "    text = re.sub('\\<.{,10}\\>', ' ', text)\n",
    "    text = re.sub('[.\\'`,;():\\-$%&\\^#?!><]', ' ', text).lower()\n",
    "    text = re.sub('\\w*\\d+\\w*', '', text)\n",
    "    text = re.sub('\\s[xvil]+\\s', ' ', text)\n",
    "    text = re.sub('\\s{2,}', ' ', text)\n",
    "    for stop in stops:\n",
    "        text = re.sub('\\s{}\\s'.format(stop), ' ', text)\n",
    "    return text"
   ]
  },
  {
   "cell_type": "markdown",
   "metadata": {},
   "source": [
    "I read in the csv I made after topic modeling and filter for each specific topic in order to make the ScatterText"
   ]
  },
  {
   "cell_type": "code",
   "execution_count": null,
   "metadata": {},
   "outputs": [],
   "source": [
    "df = pd.read_csv('bill_details.csv', index_col=[0])"
   ]
  },
  {
   "cell_type": "code",
   "execution_count": null,
   "metadata": {},
   "outputs": [],
   "source": [
    "df.topic.unique()"
   ]
  },
  {
   "cell_type": "markdown",
   "metadata": {},
   "source": [
    "I run the following code for all 15 topics and merely change the mask to filter for each topic. I end up with 15 ScatterTexts which I refer to for the final flask app."
   ]
  },
  {
   "cell_type": "code",
   "execution_count": null,
   "metadata": {},
   "outputs": [],
   "source": [
    "tax_index = df[df.topic=='education'].index"
   ]
  },
  {
   "cell_type": "code",
   "execution_count": null,
   "metadata": {},
   "outputs": [],
   "source": [
    "cursor = db.bills.find({})\n",
    "trump = []\n",
    "for bill in list(cursor):\n",
    "    if bill['_id'] in tax_index:\n",
    "        bill['bill'] = text_clean(bill['bill'], stops)\n",
    "        if len(bill['bill']) > 6000:\n",
    "            bill['bill'] = bill['bill'][:6000]\n",
    "            trump.append(bill)\n",
    "        else:\n",
    "            trump.append(bill)"
   ]
  },
  {
   "cell_type": "code",
   "execution_count": null,
   "metadata": {},
   "outputs": [],
   "source": [
    "len(trump)"
   ]
  },
  {
   "cell_type": "code",
   "execution_count": null,
   "metadata": {},
   "outputs": [],
   "source": [
    "trump_df = pd.DataFrame(trump)"
   ]
  },
  {
   "cell_type": "code",
   "execution_count": null,
   "metadata": {},
   "outputs": [],
   "source": [
    "trump_df[['party','bill']].head()"
   ]
  },
  {
   "cell_type": "code",
   "execution_count": null,
   "metadata": {},
   "outputs": [],
   "source": [
    "import scattertext as st"
   ]
  },
  {
   "cell_type": "code",
   "execution_count": null,
   "metadata": {},
   "outputs": [],
   "source": [
    "corpus = st.CorpusFromPandas(trump_df[['party', 'bill']],\n",
    "                             category_col='party',\n",
    "                             text_col='bill',\n",
    "                             nlp=st.whitespace_nlp_with_sentences,\n",
    "                             verbose=True\n",
    "                            ).build()"
   ]
  },
  {
   "cell_type": "code",
   "execution_count": null,
   "metadata": {},
   "outputs": [],
   "source": [
    "html = st.produce_scattertext_explorer(\n",
    "        corpus,\n",
    "        category='D',\n",
    "        category_name='Democratic',\n",
    "        not_category_name='Republican',\n",
    "        minimum_term_frequency=100,\n",
    "        pmi_threshold_coefficient=5,\n",
    "        width_in_pixels=1000,\n",
    "        )"
   ]
  },
  {
   "cell_type": "code",
   "execution_count": null,
   "metadata": {},
   "outputs": [],
   "source": [
    "open('education.html', 'wb').write(html.encode('utf-8'));"
   ]
  },
  {
   "cell_type": "code",
   "execution_count": null,
   "metadata": {},
   "outputs": [],
   "source": []
  }
 ],
 "metadata": {
  "kernelspec": {
   "display_name": "Python 3",
   "language": "python",
   "name": "python3"
  },
  "language_info": {
   "codemirror_mode": {
    "name": "ipython",
    "version": 3
   },
   "file_extension": ".py",
   "mimetype": "text/x-python",
   "name": "python",
   "nbconvert_exporter": "python",
   "pygments_lexer": "ipython3",
   "version": "3.7.6"
  }
 },
 "nbformat": 4,
 "nbformat_minor": 4
}
