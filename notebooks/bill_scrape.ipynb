{
 "cells": [
  {
   "cell_type": "markdown",
   "metadata": {},
   "source": [
    "Connect to MongoDB in order to build a database of bills to access and work with later"
   ]
  },
  {
   "cell_type": "code",
   "execution_count": null,
   "metadata": {},
   "outputs": [],
   "source": [
    "from pymongo import MongoClient\n",
    "config = {\n",
    "    'host': 'xx.xxx.xxx.xx:xxxx/x',\n",
    "    'username': 'xxxxxxxx',\n",
    "    'password': 'xxxxxxxx',\n",
    "    'authSource': 'cool'\n",
    "}\n",
    "\n",
    "client = MongoClient(**config)\n",
    "db = client.cool"
   ]
  },
  {
   "cell_type": "code",
   "execution_count": 7,
   "metadata": {},
   "outputs": [],
   "source": [
    "from bs4 import BeautifulSoup\n",
    "import requests"
   ]
  },
  {
   "cell_type": "code",
   "execution_count": 8,
   "metadata": {},
   "outputs": [],
   "source": [
    "import re\n",
    "def get_goods(soup, i, congress):\n",
    "    '''\n",
    "    This function takes in html soup for a given bill from Congress.gov \n",
    "    and scrapes all the helpful information from that page.\n",
    "    The _id will simply be the bill number rather than a Mongo generated id.\n",
    "    '''\n",
    "    _id = i\n",
    "    text = soup.find(id='billTextContainer').text\n",
    "    date = soup.find(text=re.compile('\\d+/\\d+/\\d+'))\n",
    "    date = re.sub('[^0-9/]', '', date)\n",
    "    track = soup.find(text=re.compile('This bill has the status'))[25:]\n",
    "    sponsor = soup.find(text=re.compile('Rep\\.\\s'))\n",
    "    name = re.search('[A-Z][a-z]+,\\s[A-Za-z. ]+', sponsor).group()\n",
    "    party = re.search('(?<=\\[).', sponsor).group()\n",
    "    state = re.search('(?<=-)..', sponsor).group()\n",
    "    bill_dict = {'_id': i, 'congress': congress, 'date' : date, 'track': track, \n",
    "                 'name': name, 'party': party, 'state': state, 'bill': text}\n",
    "    return bill_dict"
   ]
  },
  {
   "cell_type": "markdown",
   "metadata": {},
   "source": [
    "This loop calls every bill number from the 115th Congress, forms the url for that bill, and puts the html into BeautifulSoup. The get_goods function collects all the information that's important and inserts a dictionary into the Mongo Database.\n",
    "\n",
    "For the 116th Congress, I simply change 115th to 116th in both the url and the get_goods input and add 7401 to i, again for the function input. In total, it took about 5 hours to collect 15,100 bills all written in the past four years."
   ]
  },
  {
   "cell_type": "code",
   "execution_count": null,
   "metadata": {
    "scrolled": true
   },
   "outputs": [],
   "source": [
    "for i in range(1, 7402):\n",
    "    url = f\"https://www.congress.gov/bill/115th-congress/house-bill/{i}/text?format=txt&r={i}&s=7\"\n",
    "    response = requests.get(url)\n",
    "    soup = BeautifulSoup(response.text, 'lxml')\n",
    "    try:\n",
    "        db.bills.insert_one(get_goods(soup, i, '115th'))\n",
    "    except:\n",
    "        print(i)\n",
    "    if i%500==0:\n",
    "        print(i)"
   ]
  },
  {
   "cell_type": "code",
   "execution_count": 42,
   "metadata": {},
   "outputs": [
    {
     "data": {
      "text/plain": [
       "15105"
      ]
     },
     "execution_count": 42,
     "metadata": {},
     "output_type": "execute_result"
    }
   ],
   "source": [
    "db.bills.count_documents({})"
   ]
  }
 ],
 "metadata": {
  "kernelspec": {
   "display_name": "Python 3",
   "language": "python",
   "name": "python3"
  },
  "language_info": {
   "codemirror_mode": {
    "name": "ipython",
    "version": 3
   },
   "file_extension": ".py",
   "mimetype": "text/x-python",
   "name": "python",
   "nbconvert_exporter": "python",
   "pygments_lexer": "ipython3",
   "version": "3.7.6"
  }
 },
 "nbformat": 4,
 "nbformat_minor": 4
}
